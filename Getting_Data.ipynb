{
 "cells": [
  {
   "cell_type": "code",
   "execution_count": 24,
   "id": "446050d3",
   "metadata": {},
   "outputs": [],
   "source": [
    "import os\n",
    "import pyodbc\n",
    "import pandas as pd\n",
    "import pickle"
   ]
  },
  {
   "cell_type": "code",
   "execution_count": 25,
   "id": "896c90e6",
   "metadata": {},
   "outputs": [],
   "source": [
    "pd.set_option('display.max_rows',None)\n",
    "pd.set_option('display.max_columns',None)\n",
    "pd.set_option('display.width',None)\n",
    "pd.set_option('display.max_colwidth',None)"
   ]
  },
  {
   "cell_type": "code",
   "execution_count": 26,
   "id": "acb158ba",
   "metadata": {},
   "outputs": [],
   "source": [
    "Base_Data = pd.read_excel(\"DATA.xlsx\")"
   ]
  },
  {
   "cell_type": "code",
   "execution_count": 27,
   "id": "2f820bcc",
   "metadata": {},
   "outputs": [],
   "source": [
    "Base_Data = Base_Data.convert_dtypes()\n",
    "\n",
    "Base_Data = Base_Data.astype({\"file\":\"string\",\"body\":\"string\"})\n",
    "\n",
    "Base_Data = pd.DataFrame(Base_Data[['file','body']])"
   ]
  },
  {
   "cell_type": "code",
   "execution_count": 28,
   "id": "a925bb79",
   "metadata": {},
   "outputs": [],
   "source": [
    "pickle_out = open(\"RAW DATA.pickle\",\"wb\")\n",
    "\n",
    "pickle.dump(Base_Data,pickle_out)\n",
    "\n",
    "pickle_out.close()"
   ]
  },
  {
   "cell_type": "code",
   "execution_count": 29,
   "id": "31d18d54",
   "metadata": {},
   "outputs": [
    {
     "data": {
      "text/plain": [
       "file    string\n",
       "body    string\n",
       "dtype: object"
      ]
     },
     "execution_count": 29,
     "metadata": {},
     "output_type": "execute_result"
    }
   ],
   "source": [
    "Base_Data.dtypes"
   ]
  },
  {
   "cell_type": "code",
   "execution_count": null,
   "id": "4b50bd51",
   "metadata": {},
   "outputs": [],
   "source": []
  }
 ],
 "metadata": {
  "kernelspec": {
   "display_name": "Python 3 (ipykernel)",
   "language": "python",
   "name": "python3"
  },
  "language_info": {
   "codemirror_mode": {
    "name": "ipython",
    "version": 3
   },
   "file_extension": ".py",
   "mimetype": "text/x-python",
   "name": "python",
   "nbconvert_exporter": "python",
   "pygments_lexer": "ipython3",
   "version": "3.9.12"
  }
 },
 "nbformat": 4,
 "nbformat_minor": 5
}
